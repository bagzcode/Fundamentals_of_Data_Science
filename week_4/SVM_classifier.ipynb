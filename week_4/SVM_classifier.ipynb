{
 "cells": [
  {
   "cell_type": "code",
   "execution_count": 1,
   "metadata": {
    "colab": {
     "base_uri": "https://localhost:8080/",
     "height": 977
    },
    "id": "yPndtL9BAHzx",
    "outputId": "e727f1ce-2d82-4751-c0c6-3fd3b89491db"
   },
   "outputs": [
    {
     "name": "stdout",
     "output_type": "stream",
     "text": [
      "<class 'pandas.core.frame.DataFrame'>\n",
      "RangeIndex: 569 entries, 0 to 568\n",
      "Data columns (total 31 columns):\n",
      " #   Column  Non-Null Count  Dtype  \n",
      "---  ------  --------------  -----  \n",
      " 0   0       569 non-null    float64\n",
      " 1   1       569 non-null    float64\n",
      " 2   2       569 non-null    float64\n",
      " 3   3       569 non-null    float64\n",
      " 4   4       569 non-null    float64\n",
      " 5   5       569 non-null    float64\n",
      " 6   6       569 non-null    float64\n",
      " 7   7       569 non-null    float64\n",
      " 8   8       569 non-null    float64\n",
      " 9   9       569 non-null    float64\n",
      " 10  10      569 non-null    float64\n",
      " 11  11      569 non-null    float64\n",
      " 12  12      569 non-null    float64\n",
      " 13  13      569 non-null    float64\n",
      " 14  14      569 non-null    float64\n",
      " 15  15      569 non-null    float64\n",
      " 16  16      569 non-null    float64\n",
      " 17  17      569 non-null    float64\n",
      " 18  18      569 non-null    float64\n",
      " 19  19      569 non-null    float64\n",
      " 20  20      569 non-null    float64\n",
      " 21  21      569 non-null    float64\n",
      " 22  22      569 non-null    float64\n",
      " 23  23      569 non-null    float64\n",
      " 24  24      569 non-null    float64\n",
      " 25  25      569 non-null    float64\n",
      " 26  26      569 non-null    float64\n",
      " 27  27      569 non-null    float64\n",
      " 28  28      569 non-null    float64\n",
      " 29  29      569 non-null    float64\n",
      " 30  label   569 non-null    int64  \n",
      "dtypes: float64(30), int64(1)\n",
      "memory usage: 137.9 KB\n"
     ]
    },
    {
     "data": {
      "image/png": "[encoded data removed]",
      "text/plain": [
       "<Figure size 432x288 with 1 Axes>"
      ]
     },
     "metadata": {
      "needs_background": "light"
     },
     "output_type": "display_data"
    }
   ],
   "source": [
    "import pandas as pd\n",
    "import matplotlib.pyplot as plt\n",
    "from sklearn import datasets\n",
    "from sklearn.svm import  SVC\n",
    "import numpy as np\n",
    "from sklearn.metrics import accuracy_score\n",
    " \n",
    "# Load the breast cancer dataset\n",
    "\n",
    "bc = datasets.load_breast_cancer()\n",
    "# print(bc.target)\n",
    "df = pd.DataFrame(data=bc.data)\n",
    "df[\"label\"] = bc.target\n",
    "df.info() \n",
    "\n",
    "plt.scatter(df[0][df[\"label\"] == 0], df[1][df[\"label\"] == 0],\n",
    "            color='red', marker='o', label='malignant')\n",
    "plt.scatter(df[0][df[\"label\"] == 1], df[1][df[\"label\"] == 1],\n",
    "            color='green', marker='*', label='benign')\n",
    "plt.xlabel('Radius')\n",
    "plt.ylabel('Texture')\n",
    "plt.legend(loc='upper left')\n",
    "plt.show()"
   ]
  },
  {
   "cell_type": "code",
   "execution_count": 2,
   "metadata": {
    "id": "4fvMXBm3A7YO"
   },
   "outputs": [],
   "source": [
    "X=df.iloc[:,0:2]\n",
    "y=df['label']"
   ]
  },
  {
   "cell_type": "code",
   "execution_count": 3,
   "metadata": {
    "colab": {
     "base_uri": "https://localhost:8080/"
    },
    "id": "Xs9IKHq2AgrE",
    "outputId": "790d5721-6998-4948-da8a-7e88a9d4549f"
   },
   "outputs": [
    {
     "data": {
      "text/plain": [
       "SVC(C=10, gamma=0.001, random_state=1)"
      ]
     },
     "execution_count": 3,
     "metadata": {},
     "output_type": "execute_result"
    }
   ],
   "source": [
    "svm = SVC(kernel='rbf', random_state=1, gamma=0.001, C=10)\n",
    "\n",
    "#train the model\n",
    "svm.fit(X, y)\n"
   ]
  },
  {
   "cell_type": "code",
   "execution_count": null,
   "metadata": {
    "colab": {
     "base_uri": "https://localhost:8080/",
     "height": 278
    },
    "id": "HBUxG1u5BpzO",
    "outputId": "18a09a2e-0455-4ebb-b42e-a1b97b101a87"
   },
   "outputs": [],
   "source": [
    "def plot_contours(ax, clf, xx, yy, **params):\n",
    "    Z = clf.predict(np.c_[xx.ravel(), yy.ravel()])\n",
    "    Z = Z.reshape(xx.shape)\n",
    "    out = ax.contourf(xx, yy, Z, **params)\n",
    "    return out\n",
    "\n",
    "def make_meshgrid(x, y, h=.02):\n",
    "    x_min, x_max = x.min() - 1, x.max() + 1\n",
    "    y_min, y_max = y.min() - 1, y.max() + 1\n",
    "    xx, yy = np.meshgrid(np.arange(x_min, x_max, h), np.arange(y_min, y_max, h))\n",
    "    return xx, yy\n",
    "\n",
    "fig, ax = plt.subplots()\n",
    "# title for the plots\n",
    "title = ('Decision surface of SVC ')\n",
    "# Set-up grid for plotting.\n",
    "X0, X1 = X.iloc[:, 0], X.iloc[:, 1]\n",
    "xx, yy = make_meshgrid(X0, X1)\n",
    "\n",
    "plot_contours(ax, svm, xx, yy, cmap=plt.cm.YlGn, alpha=0.8)\n",
    "ax.scatter(X0, X1, c=y, cmap=plt.cm.coolwarm, s=50, alpha=0.7 )\n",
    "ax.set_xlabel('Radius')\n",
    "ax.set_ylabel('Texture')\n",
    "ax.set_xticks(())\n",
    "ax.set_yticks(())\n",
    "ax.set_title(title)\n",
    "plt.show()"
   ]
  },
  {
   "cell_type": "markdown",
   "metadata": {
    "id": "H1-Qu9-tDsJA"
   },
   "source": [
    "Matplotib COLOR CHOICE\n",
    "https://matplotlib.org/stable/tutorials/colors/colormaps.html"
   ]
  },
  {
   "cell_type": "code",
   "execution_count": null,
   "metadata": {
    "colab": {
     "base_uri": "https://localhost:8080/"
    },
    "id": "K9FpvnaDEeoW",
    "outputId": "0685d1aa-f19c-4dfd-d9b0-e9873b453e6c"
   },
   "outputs": [],
   "source": [
    "y_pred=svm.predict(X)\n",
    "\n",
    "# Show the performance of your model\n",
    "print(accuracy_score(y, y_pred))"
   ]
  },
  {
   "cell_type": "markdown",
   "metadata": {
    "id": "RlcmvRHHI5Dc"
   },
   "source": [
    "<h2>Your task is:</h2>\n",
    "\n",
    "\n",
    "\n",
    "1. Use your own dataset from assignment 1 (IMDB Favourite Series)\n",
    "\n",
    "2. Perform Data Wrangling/Data Munging as necessary.\n",
    "\n",
    "3. Make sure it suitable for classification (add another column for classification label. Every movie that has rating greater than 3.0 will be considered good, otherwise is bad)\n",
    "\n",
    "4. Try the SVM classifier with different kernels, gamma and C setting.\n",
    "\n",
    "5.   Conclude your findings, which setting is more suitable for your dataset. \n",
    "\n",
    "\n",
    "\n"
   ]
  },
  {
   "cell_type": "markdown",
   "metadata": {},
   "source": [
    "<h2> You can use your own dataset for your extramiles. For example, I want to use my data that I already cleaned from assignmen 1</h2>"
   ]
  },
  {
   "cell_type": "code",
   "execution_count": null,
   "metadata": {},
   "outputs": [],
   "source": [
    "ddf=pd.read_csv(\"df.csv\")"
   ]
  },
  {
   "cell_type": "code",
   "execution_count": null,
   "metadata": {},
   "outputs": [],
   "source": [
    "ddf.info()\n",
    "ddf"
   ]
  },
  {
   "cell_type": "markdown",
   "metadata": {},
   "source": [
    "<h3> I add another column for classification label. Every movie that has rating greater than 3.0 will be considered good, otherwise is bad. "
   ]
  },
  {
   "cell_type": "code",
   "execution_count": null,
   "metadata": {},
   "outputs": [],
   "source": [
    "ddf['rating_class']=np.where(ddf['rating']>3.0,'good','bad')\n",
    "ddf"
   ]
  },
  {
   "cell_type": "code",
   "execution_count": null,
   "metadata": {},
   "outputs": [],
   "source": [
    "#I just want to use some part of the data. I slice the data only until 1000. \n",
    "\n",
    "X=ddf.iloc[0:1001,1:6]\n",
    "y=ddf.loc[0:1000,'rating_class']"
   ]
  },
  {
   "cell_type": "code",
   "execution_count": null,
   "metadata": {},
   "outputs": [],
   "source": [
    "svm = SVC(kernel='rbf', random_state=1, gamma=0.08, C=1)\n",
    "\n",
    "#train the model\n",
    "svm.fit(X, y)\n",
    "\n",
    "#just use the same data to predict for now\n",
    "y_pred=svm.predict(X)\n",
    "\n",
    "\n",
    "print(accuracy_score(y, y_pred))"
   ]
  }
 ],
 "metadata": {
  "colab": {
   "collapsed_sections": [],
   "provenance": []
  },
  "kernelspec": {
   "display_name": "Python 3 (ipykernel)",
   "language": "python",
   "name": "python3"
  },
  "language_info": {
   "codemirror_mode": {
    "name": "ipython",
    "version": 3
   },
   "file_extension": ".py",
   "mimetype": "text/x-python",
   "name": "python",
   "nbconvert_exporter": "python",
   "pygments_lexer": "ipython3",
   "version": "3.9.7"
  }
 },
 "nbformat": 4,
 "nbformat_minor": 4
}
